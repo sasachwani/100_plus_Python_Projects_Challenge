{
  "nbformat": 4,
  "nbformat_minor": 0,
  "metadata": {
    "colab": {
      "provenance": [],
      "include_colab_link": true
    },
    "kernelspec": {
      "name": "python3",
      "display_name": "Python 3"
    },
    "language_info": {
      "name": "python"
    }
  },
  "cells": [
    {
      "cell_type": "markdown",
      "metadata": {
        "id": "view-in-github",
        "colab_type": "text"
      },
      "source": [
        "<a href=\"https://colab.research.google.com/github/sasachwani/100_plus_Python_Projects_Challenge/blob/main/gpt_4o_mini_demo.ipynb\" target=\"_parent\"><img src=\"https://colab.research.google.com/assets/colab-badge.svg\" alt=\"Open In Colab\"/></a>"
      ]
    },
    {
      "cell_type": "code",
      "source": [
        "!pip install --q openai"
      ],
      "metadata": {
        "collapsed": true,
        "id": "o-Qybo59Qyyv"
      },
      "execution_count": 8,
      "outputs": []
    },
    {
      "cell_type": "code",
      "source": [
        "from openai import OpenAI\n",
        "from google.colab import userdata\n",
        "\n",
        "client = OpenAI(api_key = userdata.get('OPENAI_API_KEYP'))\n",
        "\n",
        "def gpt_4o_mini(prompt):\n",
        "  response = client.chat.completions.create(\n",
        "    model=\"gpt-4o-mini\",\n",
        "    messages=[\n",
        "      {\n",
        "        \"role\": \"system\",\n",
        "        \"content\": [{ \"type\": \"text\", \"text\": \"You are a helpful assistant. Respond in Markdown format.\"}],\n",
        "        \"name\": \"user\",\n",
        "        \"content\": [{ \"type\": \"text\", \"text\": prompt }]\n",
        "      }\n",
        "    ],\n",
        "    temperature=1,\n",
        "    max_tokens=100,\n",
        "    top_p=1,\n",
        "  )\n",
        "  return response.choices[0].message.content"
      ],
      "metadata": {
        "id": "IiQtlQ5vRUOp",
        "outputId": "281a477b-c083-4d61-82dc-51e694c6d35e",
        "colab": {
          "base_uri": "https://localhost:8080/",
          "height": 349
        }
      },
      "execution_count": 11,
      "outputs": [
        {
          "output_type": "error",
          "ename": "TimeoutException",
          "evalue": "Requesting secret OPENAI_API_KEYP timed out. Secrets can only be fetched when running from the Colab UI.",
          "traceback": [
            "\u001b[0;31m---------------------------------------------------------------------------\u001b[0m",
            "\u001b[0;31mTimeoutException\u001b[0m                          Traceback (most recent call last)",
            "\u001b[0;32m<ipython-input-11-b332ac5f109f>\u001b[0m in \u001b[0;36m<cell line: 4>\u001b[0;34m()\u001b[0m\n\u001b[1;32m      2\u001b[0m \u001b[0;32mfrom\u001b[0m \u001b[0mgoogle\u001b[0m\u001b[0;34m.\u001b[0m\u001b[0mcolab\u001b[0m \u001b[0;32mimport\u001b[0m \u001b[0muserdata\u001b[0m\u001b[0;34m\u001b[0m\u001b[0;34m\u001b[0m\u001b[0m\n\u001b[1;32m      3\u001b[0m \u001b[0;34m\u001b[0m\u001b[0m\n\u001b[0;32m----> 4\u001b[0;31m \u001b[0mclient\u001b[0m \u001b[0;34m=\u001b[0m \u001b[0mOpenAI\u001b[0m\u001b[0;34m(\u001b[0m\u001b[0mapi_key\u001b[0m \u001b[0;34m=\u001b[0m \u001b[0muserdata\u001b[0m\u001b[0;34m.\u001b[0m\u001b[0mget\u001b[0m\u001b[0;34m(\u001b[0m\u001b[0;34m'OPENAI_API_KEYP'\u001b[0m\u001b[0;34m)\u001b[0m\u001b[0;34m)\u001b[0m\u001b[0;34m\u001b[0m\u001b[0;34m\u001b[0m\u001b[0m\n\u001b[0m\u001b[1;32m      5\u001b[0m \u001b[0;34m\u001b[0m\u001b[0m\n\u001b[1;32m      6\u001b[0m \u001b[0;32mdef\u001b[0m \u001b[0mgpt_4o_mini\u001b[0m\u001b[0;34m(\u001b[0m\u001b[0mprompt\u001b[0m\u001b[0;34m)\u001b[0m\u001b[0;34m:\u001b[0m\u001b[0;34m\u001b[0m\u001b[0;34m\u001b[0m\u001b[0m\n",
            "\u001b[0;32m/usr/local/lib/python3.10/dist-packages/google/colab/userdata.py\u001b[0m in \u001b[0;36mget\u001b[0;34m(key)\u001b[0m\n\u001b[1;32m     64\u001b[0m     )\n\u001b[1;32m     65\u001b[0m   \u001b[0;32mif\u001b[0m \u001b[0;32mnot\u001b[0m \u001b[0mresp\u001b[0m\u001b[0;34m:\u001b[0m\u001b[0;34m\u001b[0m\u001b[0;34m\u001b[0m\u001b[0m\n\u001b[0;32m---> 66\u001b[0;31m     \u001b[0;32mraise\u001b[0m \u001b[0mTimeoutException\u001b[0m\u001b[0;34m(\u001b[0m\u001b[0mkey\u001b[0m\u001b[0;34m)\u001b[0m\u001b[0;34m\u001b[0m\u001b[0;34m\u001b[0m\u001b[0m\n\u001b[0m\u001b[1;32m     67\u001b[0m   \u001b[0;32mif\u001b[0m \u001b[0;32mnot\u001b[0m \u001b[0mresp\u001b[0m\u001b[0;34m.\u001b[0m\u001b[0mget\u001b[0m\u001b[0;34m(\u001b[0m\u001b[0;34m'exists'\u001b[0m\u001b[0;34m,\u001b[0m \u001b[0;32mFalse\u001b[0m\u001b[0;34m)\u001b[0m\u001b[0;34m:\u001b[0m\u001b[0;34m\u001b[0m\u001b[0;34m\u001b[0m\u001b[0m\n\u001b[1;32m     68\u001b[0m     \u001b[0;32mraise\u001b[0m \u001b[0mSecretNotFoundError\u001b[0m\u001b[0;34m(\u001b[0m\u001b[0mkey\u001b[0m\u001b[0;34m)\u001b[0m\u001b[0;34m\u001b[0m\u001b[0;34m\u001b[0m\u001b[0m\n",
            "\u001b[0;31mTimeoutException\u001b[0m: Requesting secret OPENAI_API_KEYP timed out. Secrets can only be fetched when running from the Colab UI."
          ]
        }
      ]
    },
    {
      "cell_type": "code",
      "source": [
        "from IPython.display import Markdown, display\n",
        "\n",
        "output = gpt_4o_mini(prompt=input(\"Enter a prompt: \"))\n",
        "display(Markdown(output))"
      ],
      "metadata": {
        "colab": {
          "base_uri": "https://localhost:8080/",
          "height": 1000
        },
        "collapsed": true,
        "id": "FeDBf7SgRwSf",
        "outputId": "8da46d09-a599-4472-cf08-ecc3da492388"
      },
      "execution_count": null,
      "outputs": [
        {
          "name": "stdout",
          "output_type": "stream",
          "text": [
            "Enter a prompt: write a python snake game\n"
          ]
        },
        {
          "output_type": "display_data",
          "data": {
            "text/plain": [
              "<IPython.core.display.Markdown object>"
            ],
            "text/markdown": "Certainly! Below is a simple implementation of the classic Snake game using the `pygame` library. Make sure you have `pygame` installed in your Python environment. You can install it via pip if you haven't already:\n\n```bash\npip install pygame\n```\n\nHere is the code for a basic Snake game:\n\n```python\nimport pygame\nimport time\nimport random\n\n# Initialize Pygame\npygame.init()\n\n# Set the colors\nwhite = (255, 255, 255)\nyellow = (255, 255, 102)\nblack = (0, 0, 0)\nred = (213, 50, 80)\ngreen = (0, 255, 0)\nblue = (50, 153, 213)\n\n# Set the display dimensions\nwidth = 600\nheight = 400\nscreen = pygame.display.set_mode((width, height))\n\n# Game variables\nsnake_block = 10\nsnake_speed = 15\n\nclock = pygame.time.Clock()\n\n# Font styles\nfont_style = pygame.font.SysFont(\"bahnschrift\", 25)\nscore_font = pygame.font.SysFont(\"comicsansms\", 35)\n\ndef display_score(score):\n    value = score_font.render(\"Score: \" + str(score), True, black)\n    screen.blit(value, [0, 0])\n\ndef draw_snake(snake_block, snake_list):\n    for x in snake_list:\n        pygame.draw.rect(screen, black, [x[0], x[1], snake_block, snake_block])\n\ndef message(msg, color):\n    mesg = font_style.render(msg, True, color)\n    screen.blit(mesg, [width / 6, height / 3])\n\ndef game_loop():\n    game_over = False\n    game_close = False\n    x1 = width / 2\n    y1 = height / 2\n    x1_change = 0\n    y1_change = 0\n    \n    snake_List = []\n    Length_of_snake = 1\n    \n    foodx = round(random.randrange(0, width - snake_block) / 10.0) * 10.0\n    foody = round(random.randrange(0, height - snake_block) / 10.0) * 10.0\n\n    while not game_over:\n        while game_close == True:\n            screen.fill(blue)\n            message(\"You Lost! Press C-Play Again or Q-Quit\", red)\n            display_score(Length_of_snake - 1)\n            pygame.display.update()\n\n            for event in pygame.event.get():\n                if event.type == pygame.KEYDOWN:\n                    if event.key == pygame.K_q:\n                        game_over = True\n                        game_close = False\n                    if event.key == pygame.K_c:\n                        game_loop()\n\n        for event in pygame.event.get():\n            if event.type == pygame.QUIT:\n                game_over = True\n            if event.type == pygame.KEYDOWN:\n                if event.key == pygame.K_LEFT:\n                    x1_change = -snake_block\n                    y1_change = 0\n                elif event.key == pygame.K_RIGHT:\n                    x1_change = snake_block\n                    y1_change = 0\n                elif event.key == pygame.K_UP:\n                    y1_change = -snake_block\n                    x1_change = 0\n                elif event.key == pygame.K_DOWN:\n                    y1_change = snake_block\n                    x1_change = 0\n\n        if x1 >= width or x1 < 0 or y1 >= height or y1 < 0:\n            game_close = True\n\n        x1 += x1_change\n        y1 += y1_change\n        screen.fill(blue)\n        pygame.draw.rect(screen, green, [foodx, foody, snake_block, snake_block])\n        snake_Head = []\n        snake_Head.append(x1)\n        snake_Head.append(y1)\n        snake_List.append(snake_Head)\n        if len(snake_List) > Length_of_snake:\n            del snake_List[0]\n\n        for x in snake_List[:-1]:\n            if x == snake_Head:\n                game_close = True\n\n        draw_snake(snake_block, snake_List)\n        display_score(Length_of_snake - 1)\n\n        pygame.display.update()\n        \n        if x1 == foodx and y1 == foody:\n            foodx = round(random.randrange(0, width - snake_block) / 10.0) * 10.0\n            foody = round(random.randrange(0, height - snake_block) / 10.0) * 10.0\n            Length_of_snake += 1\n\n        clock.tick(snake_speed)\n\n    pygame.quit()\n    quit()\n\ngame_loop()\n```\n\n### How the Code Works:\n1. **Initialize Pygame:** It sets up the game window and"
          },
          "metadata": {}
        }
      ]
    }
  ]
}